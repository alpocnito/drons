{
 "cells": [
  {
   "cell_type": "code",
   "execution_count": 1,
   "metadata": {},
   "outputs": [],
   "source": [
    "from PIL import Image\n",
    "from os import listdir\n",
    "from os.path import isfile, join\n",
    "import time\n",
    "import numpy as np\n",
    "import matplotlib.pyplot as plt\n",
    "import pywt\n",
    "import scipy.signal\n",
    "import wavio\n",
    "from numpy.fft import rfft, rfftfreq\n",
    "from utils import load_data, wavelet, filter_mean, imshow, print_imgs, filter_highpass\n",
    "\n",
    "START = 0\n",
    "END = 60"
   ]
  },
  {
   "cell_type": "code",
   "execution_count": 2,
   "metadata": {},
   "outputs": [],
   "source": [
    "def divide_measure(divider, title, wavelet_t, filter_cutoff):\n",
    "    F, signal = load_data()\n",
    "    mask = np.arange(stop = len(signal)) % divider == 0\n",
    "    signal_d = signal[mask]\n",
    "    F_d = F / divider\n",
    "\n",
    "    st = time.time()\n",
    "    filtered = filter_highpass(signal_d, filter_cutoff)\n",
    "    print(title)\n",
    "    print(f'{filter_cutoff = }')\n",
    "    print(f'{wavelet_t = }')\n",
    "    print(f\"Фильтрация: {time.time() - st:.1f} сек\")\n",
    "\n",
    "    return wavelet(filtered, START, END, F_d, title, fft=False, wavelet_t=wavelet_t)"
   ]
  },
  {
   "cell_type": "code",
   "execution_count": 8,
   "metadata": {},
   "outputs": [],
   "source": [
    "# divide_measure(divider=1, title='F = 44100 div 1, cutoff=0_001', wavelet_t='cgau6', filter_cutoff=0.001)\n",
    "# divide_measure(divider=1, title='F = 44100 div 1, cutoff=0_01', wavelet_t='cgau6', filter_cutoff=0.01)\n",
    "# divide_measure(divider=1, title='F = 44100 div 1, cutoff=0_02', wavelet_t='cgau6', filter_cutoff=0.02)\n",
    "# divide_measure(divider=1, title='F = 44100 div 1, cutoff=0_04', wavelet_t='cgau6', filter_cutoff=0.04)"
   ]
  },
  {
   "cell_type": "code",
   "execution_count": 9,
   "metadata": {},
   "outputs": [],
   "source": [
    "# divide_measure(divider=1, title='F = 44100 div 1, cutoff=0_08', wavelet_t='cgau6', filter_cutoff=0.08)"
   ]
  },
  {
   "cell_type": "code",
   "execution_count": 10,
   "metadata": {},
   "outputs": [
    {
     "name": "stdout",
     "output_type": "stream",
     "text": [
      "F = 44100 div 2, cutoff=0_001\n",
      "filter_cutoff = 0.001\n",
      "wavelet_t = 'cgau6'\n",
      "Фильтрация: 1.0 сек\n",
      "Вейвлет: 195.9 сек\n"
     ]
    },
    {
     "data": {
      "text/plain": [
       "array([ 1.16736588e+00,  2.33363127e+00,  3.49911670e+00, ...,\n",
       "       -6.56962427e+03, -6.21160151e+03, -5.36153017e+03])"
      ]
     },
     "execution_count": 10,
     "metadata": {},
     "output_type": "execute_result"
    }
   ],
   "source": [
    "divide_measure(divider=2, title='F = 44100 div 2, cutoff=0_001', wavelet_t='cgau6', filter_cutoff=0.001)"
   ]
  },
  {
   "cell_type": "code",
   "execution_count": 11,
   "metadata": {},
   "outputs": [
    {
     "name": "stdout",
     "output_type": "stream",
     "text": [
      "F = 44100 div 2, cutoff=0_01\n",
      "filter_cutoff = 0.01\n",
      "wavelet_t = 'cgau6'\n",
      "Фильтрация: 1.0 сек\n",
      "Вейвлет: 197.9 сек\n"
     ]
    },
    {
     "data": {
      "text/plain": [
       "array([-4.38717208e-15, -1.26303727e-01, -3.82498344e-01, ...,\n",
       "       -1.87225863e+03, -1.76882114e+03, -1.17575978e+03])"
      ]
     },
     "execution_count": 11,
     "metadata": {},
     "output_type": "execute_result"
    }
   ],
   "source": [
    "divide_measure(divider=2, title='F = 44100 div 2, cutoff=0_01', wavelet_t='cgau6', filter_cutoff=0.01)"
   ]
  },
  {
   "cell_type": "code",
   "execution_count": 12,
   "metadata": {},
   "outputs": [
    {
     "name": "stdout",
     "output_type": "stream",
     "text": [
      "F = 44100 div 2, cutoff=0_02\n",
      "filter_cutoff = 0.02\n",
      "wavelet_t = 'cgau6'\n",
      "Фильтрация: 1.0 сек\n",
      "Вейвлет: 196.5 сек\n"
     ]
    },
    {
     "data": {
      "text/plain": [
       "array([-4.87358210e-15, -2.52111010e-01, -7.60456311e-01, ...,\n",
       "       -1.17730171e+03, -1.00317494e+03, -3.51025336e+02])"
      ]
     },
     "execution_count": 12,
     "metadata": {},
     "output_type": "execute_result"
    }
   ],
   "source": [
    "divide_measure(divider=2, title='F = 44100 div 2, cutoff=0_02', wavelet_t='cgau6', filter_cutoff=0.02)"
   ]
  },
  {
   "cell_type": "code",
   "execution_count": 13,
   "metadata": {},
   "outputs": [
    {
     "name": "stdout",
     "output_type": "stream",
     "text": [
      "F = 44100 div 2, cutoff=0_04\n",
      "filter_cutoff = 0.04\n",
      "wavelet_t = 'cgau6'\n",
      "Фильтрация: 1.0 сек\n",
      "Вейвлет: 233.7 сек\n"
     ]
    },
    {
     "data": {
      "text/plain": [
       "array([-5.84642613e-15, -5.00254145e-01, -1.48495856e+00, ...,\n",
       "       -8.40765581e+01,  7.13158428e+01,  6.85331307e+02])"
      ]
     },
     "execution_count": 13,
     "metadata": {},
     "output_type": "execute_result"
    }
   ],
   "source": [
    "divide_measure(divider=2, title='F = 44100 div 2, cutoff=0_04', wavelet_t='cgau6', filter_cutoff=0.04)"
   ]
  },
  {
   "cell_type": "code",
   "execution_count": 14,
   "metadata": {},
   "outputs": [
    {
     "name": "stdout",
     "output_type": "stream",
     "text": [
      "F = 44100 div 2, cutoff=0_08\n",
      "filter_cutoff = 0.08\n",
      "wavelet_t = 'cgau6'\n",
      "Фильтрация: 1.3 сек\n",
      "Вейвлет: 297.3 сек\n"
     ]
    },
    {
     "data": {
      "text/plain": [
       "array([-7.79221543e-15, -9.69107617e-01, -2.69449737e+00, ...,\n",
       "       -8.97637969e+01, -1.02520989e+02,  3.72930539e+02])"
      ]
     },
     "execution_count": 14,
     "metadata": {},
     "output_type": "execute_result"
    }
   ],
   "source": [
    "divide_measure(divider=2, title='F = 44100 div 2, cutoff=0_08', wavelet_t='cgau6', filter_cutoff=0.08)"
   ]
  },
  {
   "cell_type": "code",
   "execution_count": 3,
   "metadata": {},
   "outputs": [
    {
     "name": "stdout",
     "output_type": "stream",
     "text": [
      "F = 44100 div 3, cutoff=0_001\n",
      "filter_cutoff = 0.001\n",
      "wavelet_t = 'cgau6'\n",
      "Фильтрация: 1.1 сек\n",
      "Вейвлет: 220.9 сек\n"
     ]
    },
    {
     "data": {
      "text/plain": [
       "array([ 1.16736588e+00,  2.32405043e+00,  3.48590293e+00, ...,\n",
       "       -1.55252170e+04, -1.44019418e+04, -1.44892904e+04])"
      ]
     },
     "execution_count": 3,
     "metadata": {},
     "output_type": "execute_result"
    }
   ],
   "source": [
    "divide_measure(divider=3, title='F = 44100 div 3, cutoff=0_001', wavelet_t='cgau6', filter_cutoff=0.001)"
   ]
  },
  {
   "cell_type": "code",
   "execution_count": 4,
   "metadata": {},
   "outputs": [
    {
     "name": "stdout",
     "output_type": "stream",
     "text": [
      "F = 44100 div 3, cutoff=0_01\n",
      "filter_cutoff = 0.01\n",
      "wavelet_t = 'cgau6'\n",
      "Фильтрация: 1.0 сек\n",
      "Вейвлет: 219.8 сек\n"
     ]
    },
    {
     "data": {
      "text/plain": [
       "array([-4.38717208e-15, -1.26303727e-01, -3.81461740e-01, ...,\n",
       "       -7.95564909e+03, -6.73226361e+03, -6.72928486e+03])"
      ]
     },
     "execution_count": 4,
     "metadata": {},
     "output_type": "execute_result"
    }
   ],
   "source": [
    "divide_measure(divider=3, title='F = 44100 div 3, cutoff=0_01', wavelet_t='cgau6', filter_cutoff=0.01)"
   ]
  },
  {
   "cell_type": "code",
   "execution_count": 5,
   "metadata": {},
   "outputs": [
    {
     "name": "stdout",
     "output_type": "stream",
     "text": [
      "F = 44100 div 3, cutoff=0_02\n",
      "filter_cutoff = 0.02\n",
      "wavelet_t = 'cgau6'\n",
      "Фильтрация: 1.0 сек\n",
      "Вейвлет: 226.5 сек\n"
     ]
    },
    {
     "data": {
      "text/plain": [
       "array([-4.87358210e-15, -2.52111010e-01, -7.58387178e-01, ...,\n",
       "       -6.21954999e+03, -4.73548062e+03, -4.48503131e+03])"
      ]
     },
     "execution_count": 5,
     "metadata": {},
     "output_type": "execute_result"
    }
   ],
   "source": [
    "divide_measure(divider=3, title='F = 44100 div 3, cutoff=0_02', wavelet_t='cgau6', filter_cutoff=0.02)"
   ]
  },
  {
   "cell_type": "code",
   "execution_count": 6,
   "metadata": {},
   "outputs": [
    {
     "name": "stdout",
     "output_type": "stream",
     "text": [
      "F = 44100 div 3, cutoff=0_04\n",
      "filter_cutoff = 0.04\n",
      "wavelet_t = 'cgau6'\n",
      "Фильтрация: 1.0 сек\n",
      "Вейвлет: 223.5 сек\n"
     ]
    },
    {
     "data": {
      "text/plain": [
       "array([-5.84642613e-15, -5.00254145e-01, -1.48085286e+00, ...,\n",
       "       -3.45842670e+03, -1.55602302e+03, -9.96399892e+02])"
      ]
     },
     "execution_count": 6,
     "metadata": {},
     "output_type": "execute_result"
    }
   ],
   "source": [
    "divide_measure(divider=3, title='F = 44100 div 3, cutoff=0_04', wavelet_t='cgau6', filter_cutoff=0.04)"
   ]
  },
  {
   "cell_type": "code",
   "execution_count": 7,
   "metadata": {},
   "outputs": [
    {
     "name": "stdout",
     "output_type": "stream",
     "text": [
      "F = 44100 div 3, cutoff=0_08\n",
      "filter_cutoff = 0.08\n",
      "wavelet_t = 'cgau6'\n",
      "Фильтрация: 1.0 сек\n",
      "Вейвлет: 216.9 сек\n"
     ]
    },
    {
     "data": {
      "text/plain": [
       "array([-7.79221543e-15, -9.69107617e-01, -2.68654367e+00, ...,\n",
       "       -2.09733232e+03,  1.06519794e+02,  7.58206603e+02])"
      ]
     },
     "execution_count": 7,
     "metadata": {},
     "output_type": "execute_result"
    }
   ],
   "source": [
    "divide_measure(divider=3, title='F = 44100 div 3, cutoff=0_08', wavelet_t='cgau6', filter_cutoff=0.08)"
   ]
  },
  {
   "cell_type": "code",
   "execution_count": 3,
   "metadata": {},
   "outputs": [],
   "source": [
    "START = 40\n",
    "END = 60\n",
    "def plot_wavelets(wavelets):\n",
    "    F, signal = load_data()\n",
    "    def plot_wavelet(time, data, wavelet, title, ax):\n",
    "        widths = np.geomspace(1, 1024, num=75)\n",
    "        cwtmatr, freqs = pywt.cwt(\n",
    "            data, widths, wavelet, sampling_period=np.diff(time).mean()\n",
    "        )\n",
    "        cwtmatr = np.abs(cwtmatr[:-1, :-1])\n",
    "        pcm = ax.pcolormesh(time, freqs, cwtmatr)\n",
    "        ax.set_yscale(\"log\")\n",
    "        ax.set_xlabel(\"Time (s)\")\n",
    "        ax.set_ylabel(\"Frequency (Hz)\")\n",
    "        ax.set_title(title)\n",
    "        plt.colorbar(pcm, ax=ax)\n",
    "        return ax\n",
    "\n",
    "    filtered = filter_highpass(signal)[int(START*F) : int(END*F)]\n",
    "    time = np.linspace(START, END, len(filtered))\n",
    "\n",
    "    # perform CWT with different wavelets on same signal and plot results\n",
    "    fig, axs = plt.subplots(3, 3, figsize=(40, 10), sharex=True)\n",
    "    for ax, wavelet in zip(axs.flatten(), wavelets):\n",
    "        plot_wavelet(time, filtered, wavelet, wavelet, ax)\n",
    "        print('wave')\n",
    "    plt.tight_layout(rect=[0, 0.03, 1, 0.95])\n",
    "    plt.suptitle(\"Разные параметры вейвлетов\")\n",
    "    plt.tight_layout()\n",
    "    plt.savefig('img/' + wavelets[0] + '.png')\n",
    "    plt.close('all')\n",
    "    # plt.show()"
   ]
  },
  {
   "cell_type": "code",
   "execution_count": 12,
   "metadata": {},
   "outputs": [
    {
     "name": "stdout",
     "output_type": "stream",
     "text": [
      "wave\n",
      "wave\n",
      "wave\n",
      "wave\n",
      "wave\n",
      "wave\n",
      "wave\n",
      "wave\n",
      "wave\n",
      "wave\n",
      "wave\n",
      "wave\n",
      "wave\n",
      "wave\n",
      "wave\n",
      "wave\n"
     ]
    }
   ],
   "source": [
    "plot_wavelets([f\"cmor{x:.1f}-{y:.1f}\" for x in [0.5, 1.5, 2.5] for y in [0.5, 1.0, 1.5]])"
   ]
  },
  {
   "cell_type": "code",
   "execution_count": 4,
   "metadata": {},
   "outputs": [
    {
     "name": "stdout",
     "output_type": "stream",
     "text": [
      "wave\n",
      "wave\n",
      "wave\n",
      "wave\n",
      "wave\n",
      "wave\n",
      "wave\n",
      "wave\n",
      "wave\n"
     ]
    }
   ],
   "source": [
    "plot_wavelets([f\"shan{x:.1f}-{y:.1f}\" for x in [0.5, 1.5, 2.5] for y in [0.5, 1.0, 1.5]])"
   ]
  },
  {
   "cell_type": "code",
   "execution_count": 4,
   "metadata": {},
   "outputs": [
    {
     "name": "stdout",
     "output_type": "stream",
     "text": [
      "wave\n",
      "wave\n",
      "wave\n",
      "wave\n",
      "wave\n",
      "wave\n",
      "wave\n",
      "wave\n",
      "wave\n"
     ]
    }
   ],
   "source": [
    "plot_wavelets([f\"fbsp1-{x:.1f}-{y:.1f}\" for x in [0.5, 1.5, 2.5] for y in [0.5, 1.0, 1.5]])"
   ]
  },
  {
   "cell_type": "code",
   "execution_count": 5,
   "metadata": {},
   "outputs": [
    {
     "name": "stdout",
     "output_type": "stream",
     "text": [
      "wave\n",
      "wave\n",
      "wave\n",
      "wave\n",
      "wave\n",
      "wave\n",
      "wave\n",
      "wave\n",
      "wave\n"
     ]
    }
   ],
   "source": [
    "plot_wavelets([f\"fbsp2-{x:.1f}-{y:.1f}\" for x in [0.5, 1.5, 2.5] for y in [0.5, 1.0, 1.5]])"
   ]
  },
  {
   "cell_type": "code",
   "execution_count": 4,
   "metadata": {},
   "outputs": [
    {
     "name": "stdout",
     "output_type": "stream",
     "text": [
      "wave\n",
      "wave\n",
      "wave\n",
      "wave\n",
      "wave\n",
      "wave\n",
      "wave\n",
      "wave\n",
      "wave\n"
     ]
    }
   ],
   "source": [
    "plot_wavelets([f\"fbsp3-{x:.1f}-{y:.1f}\" for x in [0.5, 1.5, 2.5] for y in [0.5, 1.0, 1.5]])"
   ]
  },
  {
   "cell_type": "code",
   "execution_count": 5,
   "metadata": {},
   "outputs": [
    {
     "name": "stdout",
     "output_type": "stream",
     "text": [
      "wave\n",
      "wave\n",
      "wave\n",
      "wave\n",
      "wave\n",
      "wave\n",
      "wave\n",
      "wave\n"
     ]
    }
   ],
   "source": [
    "plot_wavelets([f\"cgau{x}\" for x in np.arange(start=1, stop=9)])"
   ]
  },
  {
   "cell_type": "code",
   "execution_count": 6,
   "metadata": {},
   "outputs": [
    {
     "name": "stdout",
     "output_type": "stream",
     "text": [
      "wave\n",
      "wave\n",
      "wave\n",
      "wave\n",
      "wave\n",
      "wave\n",
      "wave\n",
      "wave\n"
     ]
    }
   ],
   "source": [
    "plot_wavelets([f\"gaus{x}\" for x in np.arange(start=1, stop=9)])"
   ]
  },
  {
   "cell_type": "code",
   "execution_count": 6,
   "metadata": {},
   "outputs": [
    {
     "data": {
      "image/png": "[encoded data removed]",
      "text/plain": [
       "<Figure size 640x480 with 1 Axes>"
      ]
     },
     "metadata": {},
     "output_type": "display_data"
    }
   ],
   "source": [
    "F, data = load_data()\n",
    "b = scipy.signal.firwin(201, cutoff=F*0.01, fs=F, pass_zero='highpass')\n",
    "w, h = scipy.signal.freqz(b, fs=F)\n",
    "plt.title('Digital filter frequency response')\n",
    "plt.plot(w, 20*np.log10(np.abs(h)))\n",
    "plt.title('Digital filter frequency response')\n",
    "plt.ylabel('Amplitude Response [dB]')\n",
    "plt.xlabel('Frequency, Hz')\n",
    "plt.grid()\n",
    "plt.show()"
   ]
  }
 ],
 "metadata": {
  "kernelspec": {
   "display_name": ".venv",
   "language": "python",
   "name": "python3"
  },
  "language_info": {
   "codemirror_mode": {
    "name": "ipython",
    "version": 3
   },
   "file_extension": ".py",
   "mimetype": "text/x-python",
   "name": "python",
   "nbconvert_exporter": "python",
   "pygments_lexer": "ipython3",
   "version": "3.12.0"
  }
 },
 "nbformat": 4,
 "nbformat_minor": 2
}
